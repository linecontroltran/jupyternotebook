{
 "cells": [
  {
   "cell_type": "markdown",
   "id": "e5d2b941-ce23-4ec7-b188-687bd079926d",
   "metadata": {},
   "source": [
    "# Data Science Tools and Ecosystem\n",
    "\n"
   ]
  },
  {
   "cell_type": "markdown",
   "id": "5645a6fd-8766-46fd-850c-2f6390abc5a1",
   "metadata": {},
   "source": [
    "In this notebook, Data Science Tools and Ecosystem are summarized."
   ]
  },
  {
   "cell_type": "markdown",
   "id": "344e5ff2-4f33-4ddc-ad5d-61f635c5879d",
   "metadata": {},
   "source": [
    "**Objectives:**\n",
    "\n",
    "- List popular languages for Data Science\n",
    "- List popular libraries\n",
    "- Popular tools table\n",
    "- Arithmetic examples"
   ]
  },
  {
   "cell_type": "markdown",
   "id": "5c51b852-c3e1-4ef7-8a33-ff32d3f92b86",
   "metadata": {},
   "source": [
    "### Some of the popular languages that Data Scientists use are:\n",
    "- R\n",
    "- Python\n",
    "- Java\n",
    "- Julia\n",
    "- Scala\n",
    "- SQL\n"
   ]
  },
  {
   "cell_type": "markdown",
   "id": "70a4e127-f39d-4b44-8938-7c8d712e1d83",
   "metadata": {},
   "source": [
    "### Some of the commonly used libraries used by Data Scientists include:\n",
    "1. idk\n",
    "2. idc\n",
    "3. idgaf"
   ]
  },
  {
   "cell_type": "markdown",
   "id": "b4e41378-3f5d-4588-8cd3-c20143d31d01",
   "metadata": {},
   "source": [
    "### Data Science Tools\n",
    "\n",
    "| Data science tools |\n",
    "|------|\n",
    "|Jupyter Notebook |\n",
    "|IBM Watson Studio   | \n",
    "|R studio  | "
   ]
  },
  {
   "cell_type": "markdown",
   "id": "2106099b-f33a-462e-8787-eff8956d26a2",
   "metadata": {},
   "source": [
    "### Below are a few examples of evaluating arithmetic expressions in Python."
   ]
  },
  {
   "cell_type": "markdown",
   "id": "866719e9-a1b4-4d4d-94ba-05dceca58bc7",
   "metadata": {},
   "source": [
    "This a simple arithmetic expression to mutiply then add integers"
   ]
  },
  {
   "cell_type": "code",
   "execution_count": 4,
   "id": "db986687-70ca-426e-b7a1-049ddd8dbdde",
   "metadata": {},
   "outputs": [
    {
     "data": {
      "text/plain": [
       "17"
      ]
     },
     "execution_count": 4,
     "metadata": {},
     "output_type": "execute_result"
    }
   ],
   "source": [
    "(3*4)+5"
   ]
  },
  {
   "cell_type": "markdown",
   "id": "d34438c4-504c-4d86-859c-203be1fe6924",
   "metadata": {},
   "source": [
    "This will convert 200 minutes to hours by diving by 60"
   ]
  },
  {
   "cell_type": "code",
   "execution_count": 5,
   "id": "1f576472-3e64-43a4-b139-9126d1d812fa",
   "metadata": {},
   "outputs": [
    {
     "data": {
      "text/plain": [
       "3.3333333333333335"
      ]
     },
     "execution_count": 5,
     "metadata": {},
     "output_type": "execute_result"
    }
   ],
   "source": [
    "200/60"
   ]
  },
  {
   "cell_type": "markdown",
   "id": "0f0c816d-c518-4231-b5a4-ed45d43f2cad",
   "metadata": {},
   "source": [
    "## Author\n",
    "\n",
    "Tom Tran"
   ]
  },
  {
   "cell_type": "code",
   "execution_count": null,
   "id": "c6be1e90-85b5-4c9f-b953-0f6da39b30d8",
   "metadata": {},
   "outputs": [],
   "source": []
  }
 ],
 "metadata": {
  "kernelspec": {
   "display_name": "Python 3 (ipykernel)",
   "language": "python",
   "name": "python3"
  },
  "language_info": {
   "codemirror_mode": {
    "name": "ipython",
    "version": 3
   },
   "file_extension": ".py",
   "mimetype": "text/x-python",
   "name": "python",
   "nbconvert_exporter": "python",
   "pygments_lexer": "ipython3",
   "version": "3.11.9"
  }
 },
 "nbformat": 4,
 "nbformat_minor": 5
}
